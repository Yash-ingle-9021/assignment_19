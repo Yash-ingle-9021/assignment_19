{
 "cells": [
  {
   "cell_type": "code",
   "execution_count": 1,
   "id": "f35f4fc6-58b5-49a6-83c0-c0b004a53dc8",
   "metadata": {},
   "outputs": [
    {
     "name": "stdout",
     "output_type": "stream",
     "text": [
      "* ASSIGNMENT_19_FLASK-2 *\n"
     ]
    }
   ],
   "source": [
    "print(\"* ASSIGNMENT_19_FLASK-2 *\")"
   ]
  },
  {
   "cell_type": "code",
   "execution_count": 3,
   "id": "ec992afd-5dd9-4ee1-a9d3-8317217ebb0f",
   "metadata": {},
   "outputs": [
    {
     "name": "stdout",
     "output_type": "stream",
     "text": [
      "Q_1_ANS :- GET Method :- The most common method. A GET message is send, and the server returns data.This method is used to retrieve data from the server. e.g In an eCommerce application, there is a search button to search for an item. after entering a keyword if we noticed, the keyword you searched for gets displayed in the URL. This request is used when the data is not sensitive. \n",
      "POST Method :- Used to send HTML form data to the server. The data received by the POST method is not cached by the server.This method makes enables users to send data over to the server. e.g In any authentication-enabled application, the registration and login form is the best example for the post method. Whenever we enter Information and submit the data get transferred over to the POST request. And if we noticed, unlike get request there is no information will be ever displayed in the URL.\n"
     ]
    }
   ],
   "source": [
    "print(\"Q_1_ANS :- GET Method :- The most common method. A GET message is send, and the server returns data.This method is used to retrieve data from the server. e.g In an eCommerce application, there is a search button to search for an item. after entering a keyword if we noticed, the keyword you searched for gets displayed in the URL. This request is used when the data is not sensitive. \\nPOST Method :- Used to send HTML form data to the server. The data received by the POST method is not cached by the server.This method makes enables users to send data over to the server. e.g In any authentication-enabled application, the registration and login form is the best example for the post method. Whenever we enter Information and submit the data get transferred over to the POST request. And if we noticed, unlike get request there is no information will be ever displayed in the URL.\")"
   ]
  },
  {
   "cell_type": "code",
   "execution_count": 4,
   "id": "6d84c8a2-016a-460a-a5e3-f9525ef270bc",
   "metadata": {},
   "outputs": [
    {
     "name": "stdout",
     "output_type": "stream",
     "text": [
      "Q_2_ANS :- To access the incoming data in Flask, you have to use the request object. The request object holds all incoming data from the request, which includes the mimetype, referrer, IP address, raw data, HTTP method, and headers, among other things.\n",
      "In a Flask App, we have our own Webpage (Client) and a Server. The Server should process the data.  The Request, in Flask, is an object that contains all the data sent from the Client to Server. This data can be recovered using the GET/POST Methods. POST is used when your application expects user input to be received by command or an HTTP request, while GET gets all the information before it even has a chance for submission. Using both methods at once gives perfect freedom but still requires complex UI patterns like AJAX calls etc, with most common applications being frameworks where multiple forms are necessary such as Slack Webhooks, MailgunMailserver, and eCommerce Commerce Framework. With Flask-Request class instead, we don’t have any need anymore since this API allows us flexible handling of many other situations.\n"
     ]
    }
   ],
   "source": [
    "print(\"Q_2_ANS :- To access the incoming data in Flask, you have to use the request object. The request object holds all incoming data from the request, which includes the mimetype, referrer, IP address, raw data, HTTP method, and headers, among other things.\\nIn a Flask App, we have our own Webpage (Client) and a Server. The Server should process the data.  The Request, in Flask, is an object that contains all the data sent from the Client to Server. This data can be recovered using the GET/POST Methods. POST is used when your application expects user input to be received by command or an HTTP request, while GET gets all the information before it even has a chance for submission. Using both methods at once gives perfect freedom but still requires complex UI patterns like AJAX calls etc, with most common applications being frameworks where multiple forms are necessary such as Slack Webhooks, MailgunMailserver, and eCommerce Commerce Framework. With Flask-Request class instead, we don’t have any need anymore since this API allows us flexible handling of many other situations.\")"
   ]
  },
  {
   "cell_type": "code",
   "execution_count": 7,
   "id": "c8260d27-7180-4543-b84c-3df086456c21",
   "metadata": {},
   "outputs": [
    {
     "name": "stdout",
     "output_type": "stream",
     "text": [
      "Q_3_ANS :- In a Flask App, we have our own Webpage (Client) and a Server. The Server should process the data.  The Request, in Flask, is an object that contains all the data sent from the Client to Server. This data can be recovered using the GET/POST Methods. POST is used when your application expects user input to be received by command or an HTTP request, while GET gets all the information before it even has a chance for submission. Using both methods at once gives perfect freedom but still requires complex UI patterns like AJAX calls etc, with most common applications being frameworks where multiple forms are necessary such as Slack Webhooks, MailgunMailserver, and eCommerce Commerce Framework. With Flask-Request class instead, we don’t have any need anymore since this API allows us flexible handling of many other situations.\n",
      "Unauthorized access or poor request.\n",
      "Unsupported media file types.\n",
      "Overload of the backend server.\n",
      "Internal hardware/connection error.\n",
      "The different  types of HTTP codes are:\n",
      "Code | Status \n",
      "300  | Multiple_choices\n",
      "301  | Moved_permanently\n",
      "302  | Found\n",
      " etc...\n"
     ]
    }
   ],
   "source": [
    "print(\"Q_3_ANS :- In a Flask App, we have our own Webpage (Client) and a Server. The Server should process the data.  The Request, in Flask, is an object that contains all the data sent from the Client to Server. This data can be recovered using the GET/POST Methods. POST is used when your application expects user input to be received by command or an HTTP request, while GET gets all the information before it even has a chance for submission. Using both methods at once gives perfect freedom but still requires complex UI patterns like AJAX calls etc, with most common applications being frameworks where multiple forms are necessary such as Slack Webhooks, MailgunMailserver, and eCommerce Commerce Framework. With Flask-Request class instead, we don’t have any need anymore since this API allows us flexible handling of many other situations.\\nUnauthorized access or poor request.\\nUnsupported media file types.\\nOverload of the backend server.\\nInternal hardware/connection error.\\nThe different  types of HTTP codes are:\\nCode | Status \\n300  | Multiple_choices\\n301  | Moved_permanently\\n302  | Found\\n etc...\")"
   ]
  },
  {
   "cell_type": "code",
   "execution_count": 9,
   "id": "5f52607b-29f5-4d9e-8b62-7d078bea0290",
   "metadata": {},
   "outputs": [
    {
     "name": "stdout",
     "output_type": "stream",
     "text": [
      "Q_4_ANS :- Templates :- Templates are files that contain static data as well as placeholders for dynamic data. A template is rendered with specific data to produce a final document. Flask uses the Jinja template library to render templates. In your application, you will use templates to render HTML which will display in the user's browser.\n",
      "\n",
      "render_template()Function :- render_template is used to generate output from a template file based on the Jinja2 engine that is found in the application's templates folder. Note that render_template is typically imported directly from the flask package instead of from flask. templating .\n"
     ]
    }
   ],
   "source": [
    "print(\"Q_4_ANS :- Templates :- Templates are files that contain static data as well as placeholders for dynamic data. A template is rendered with specific data to produce a final document. Flask uses the Jinja template library to render templates. In your application, you will use templates to render HTML which will display in the user's browser.\\n\\nrender_template()Function :- render_template is used to generate output from a template file based on the Jinja2 engine that is found in the application's templates folder. Note that render_template is typically imported directly from the flask package instead of from flask. templating .\")"
   ]
  },
  {
   "cell_type": "code",
   "execution_count": null,
   "id": "1ac93503-bbba-41e3-b253-93c1408c724c",
   "metadata": {},
   "outputs": [],
   "source": [
    "print(\"Q_5_ANS :- \")"
   ]
  }
 ],
 "metadata": {
  "kernelspec": {
   "display_name": "Python 3 (ipykernel)",
   "language": "python",
   "name": "python3"
  },
  "language_info": {
   "codemirror_mode": {
    "name": "ipython",
    "version": 3
   },
   "file_extension": ".py",
   "mimetype": "text/x-python",
   "name": "python",
   "nbconvert_exporter": "python",
   "pygments_lexer": "ipython3",
   "version": "3.10.6"
  }
 },
 "nbformat": 4,
 "nbformat_minor": 5
}
